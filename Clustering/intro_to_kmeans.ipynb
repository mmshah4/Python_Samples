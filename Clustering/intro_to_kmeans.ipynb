{
 "metadata": {
  "name": "",
  "signature": "sha256:7a1dbe529ec192ca827ebf6163b0808c402180de7f7de08f3226d83b5d6aa915"
 },
 "nbformat": 3,
 "nbformat_minor": 0,
 "worksheets": [
  {
   "cells": [
    {
     "cell_type": "markdown",
     "metadata": {},
     "source": [
      "# GA Data Science (DAT13)\n",
      "\n",
      "## K-Means Clustering\n"
     ]
    },
    {
     "cell_type": "markdown",
     "metadata": {},
     "source": [
      "### Create Random Data Set"
     ]
    },
    {
     "cell_type": "markdown",
     "metadata": {},
     "source": [
      "In the last few weeks, we've been studying classifiers - KNN and Decision trees. These are algorithms that are trainined on a dataset and are then tasked with accurately \"classifying\" a new data point with the appropriate label. \n",
      "\n",
      "Kmeans is in a different class of algorithms, called clustering. It is an unsupervised approach meaning that it is not presented with labels. Instead it is presented with a dataset and it is tasked with finding the clusters inherent in the data.\n",
      "\n",
      "Assignment: generate a series of 80 data points in 2 dimensions (x,y) with the following properties:\n",
      "\n",
      "- there should be 4 clusters of points\n",
      "- each cluster should be formed by points whose coordinates come from a 2D gaussian\n",
      "- the 2D gaussians should have the following centers:\n",
      "- [1,1] , [1,3], [3,1], [3,3]\n",
      "- they should have variance of 0.1, and 0 covariance"
     ]
    },
    {
     "cell_type": "markdown",
     "metadata": {},
     "source": [
      "np.random.multivariate takes 3 parameters:\n",
      "- mean\n",
      "- covariance\n",
      "- number of samples"
     ]
    },
    {
     "cell_type": "code",
     "collapsed": false,
     "input": [
      "import numpy as np\n",
      "import matplotlib.pyplot as plt\n",
      "%matplotlib inline"
     ],
     "language": "python",
     "metadata": {},
     "outputs": [],
     "prompt_number": 1
    },
    {
     "cell_type": "markdown",
     "metadata": {},
     "source": [
      "In the Code below, np.random.multivariate_normal samples from a gaussian distribution to generate a collection of points. Let's first get comfortable with sampling from a distrubtion. \n"
     ]
    },
    {
     "cell_type": "code",
     "collapsed": false,
     "input": [
      "sample = np.random.multivariate_normal([1,1],[[.1,0],[0,.1]],20)\n",
      "print sample\n"
     ],
     "language": "python",
     "metadata": {},
     "outputs": [
      {
       "output_type": "stream",
       "stream": "stdout",
       "text": [
        "[[ 1.2196866   1.13015225]\n",
        " [ 1.34695979  1.12700008]\n",
        " [ 0.95035319  0.99818131]\n",
        " [ 1.06007402  0.61539361]\n",
        " [ 0.8610132   1.62069494]\n",
        " [ 1.17086418  0.77591243]\n",
        " [ 0.69287459  1.31893919]\n",
        " [ 0.81666326  0.85044086]\n",
        " [ 1.15203495  0.99449413]\n",
        " [ 1.08958526  0.68976946]\n",
        " [ 1.15859608  0.97905928]\n",
        " [ 0.88180292  0.43306905]\n",
        " [ 1.28374246  1.39037524]\n",
        " [ 1.59914939  0.61861357]\n",
        " [ 0.63261664  1.15629568]\n",
        " [ 1.04915949  1.22233692]\n",
        " [ 0.75268908  1.06789626]\n",
        " [ 1.01358207  0.74691594]\n",
        " [ 1.00171041  1.25901004]\n",
        " [ 1.33208624  1.49758876]]\n"
       ]
      }
     ],
     "prompt_number": 39
    },
    {
     "cell_type": "code",
     "collapsed": false,
     "input": [
      "plt.scatter(sample[:,0], sample[:,1])\n",
      "plt.title('4 clusters ?')\n",
      "plt.show()"
     ],
     "language": "python",
     "metadata": {},
     "outputs": [
      {
       "metadata": {},
       "output_type": "display_data",
       "png": "[encoded data removed]",
       "text": [
        "<matplotlib.figure.Figure at 0x1092c8390>"
       ]
      }
     ],
     "prompt_number": 40
    },
    {
     "cell_type": "markdown",
     "metadata": {},
     "source": [
      "Now let's create our clusters .... "
     ]
    },
    {
     "cell_type": "code",
     "collapsed": false,
     "input": [
      "data = np.vstack([np.random.multivariate_normal([1,1],[[.1,0],[0,.1]],20),\n",
      "                 np.random.multivariate_normal([1,3],[[.1,0],[0,.1]],20),\n",
      "                 np.random.multivariate_normal([3,1],[[.1,0],[0,.1]],20),\n",
      "                 np.random.multivariate_normal([3,3],[[.1,0],[0,.1]],20)])"
     ],
     "language": "python",
     "metadata": {},
     "outputs": [],
     "prompt_number": 17
    },
    {
     "cell_type": "code",
     "collapsed": false,
     "input": [
      "data[:10,:]"
     ],
     "language": "python",
     "metadata": {},
     "outputs": [
      {
       "metadata": {},
       "output_type": "pyout",
       "prompt_number": 18,
       "text": [
        "array([[ 0.95449529,  1.63672846],\n",
        "       [ 1.09786597,  1.01249252],\n",
        "       [ 0.91995773,  0.94614227],\n",
        "       [ 0.80232718,  0.94481654],\n",
        "       [ 0.72360571,  1.06442253],\n",
        "       [ 1.42481266,  0.97504717],\n",
        "       [ 1.02789142,  1.35117071],\n",
        "       [ 0.90219199,  0.78624363],\n",
        "       [ 0.7829136 ,  0.49813112],\n",
        "       [ 0.83356056,  1.26175987]])"
       ]
      }
     ],
     "prompt_number": 18
    },
    {
     "cell_type": "markdown",
     "metadata": {},
     "source": [
      "Plot the points"
     ]
    },
    {
     "cell_type": "code",
     "collapsed": false,
     "input": [
      "plt.scatter(data[:,0], data[:,1])\n",
      "plt.title('4 clusters ?')\n",
      "plt.show()"
     ],
     "language": "python",
     "metadata": {},
     "outputs": [
      {
       "metadata": {},
       "output_type": "display_data",
       "png": "[encoded data removed]",
       "text": [
        "<matplotlib.figure.Figure at 0x1085a1590>"
       ]
      }
     ],
     "prompt_number": 19
    },
    {
     "cell_type": "markdown",
     "metadata": {},
     "source": [
      "###Load the KMeans Class from sklearn.cluster"
     ]
    },
    {
     "cell_type": "code",
     "collapsed": false,
     "input": [
      "from sklearn.cluster import KMeans"
     ],
     "language": "python",
     "metadata": {},
     "outputs": [],
     "prompt_number": 5
    },
    {
     "cell_type": "markdown",
     "metadata": {},
     "source": [
      "Initialize a KMeans classifier with 4 cluster, random initialization, random_state=1, 1 initial centroid seed and maximum number of iterations equal to 1"
     ]
    },
    {
     "cell_type": "code",
     "collapsed": false,
     "input": [
      "km = KMeans(n_clusters=4,  init='random', n_init=1 , max_iter = 1, random_state=1)"
     ],
     "language": "python",
     "metadata": {},
     "outputs": [],
     "prompt_number": 6
    },
    {
     "cell_type": "markdown",
     "metadata": {},
     "source": [
      "Train the classifier on all the data"
     ]
    },
    {
     "cell_type": "code",
     "collapsed": false,
     "input": [
      "km.fit(data)"
     ],
     "language": "python",
     "metadata": {},
     "outputs": [
      {
       "metadata": {},
       "output_type": "pyout",
       "prompt_number": 7,
       "text": [
        "KMeans(copy_x=True, init='random', max_iter=1, n_clusters=4, n_init=1,\n",
        "    n_jobs=1, precompute_distances=True, random_state=1, tol=0.0001,\n",
        "    verbose=0)"
       ]
      }
     ],
     "prompt_number": 7
    },
    {
     "cell_type": "markdown",
     "metadata": {},
     "source": [
      "Extract the coordinates of the cluster centers"
     ]
    },
    {
     "cell_type": "code",
     "collapsed": false,
     "input": [
      "centroids = km.cluster_centers_\n",
      "centroids"
     ],
     "language": "python",
     "metadata": {},
     "outputs": [
      {
       "metadata": {},
       "output_type": "pyout",
       "prompt_number": 23,
       "text": [
        "array([[ 0.59359147,  3.4290194 ],\n",
        "       [ 2.66156648,  3.1954245 ],\n",
        "       [ 1.14766416,  1.26320186],\n",
        "       [ 3.37533363,  0.7585762 ]])"
       ]
      }
     ],
     "prompt_number": 23
    },
    {
     "cell_type": "markdown",
     "metadata": {},
     "source": [
      "Predict the clusters for each data point"
     ]
    },
    {
     "cell_type": "code",
     "collapsed": false,
     "input": [
      "y = km.predict(data)\n",
      "print y"
     ],
     "language": "python",
     "metadata": {},
     "outputs": [
      {
       "output_type": "stream",
       "stream": "stdout",
       "text": [
        "[2 2 2 2 2 2 2 2 2 2 2 2 2 2 2 2 2 2 2 2 0 0 0 0 0 0 0 0 0 0 0 0 0 0 2 0 0\n",
        " 0 0 0 3 3 3 3 3 3 3 3 3 3 3 3 3 3 3 3 3 3 3 3 1 1 1 1 1 1 1 1 1 1 1 1 1 1\n",
        " 1 1 1 1 1 1]\n"
       ]
      }
     ],
     "prompt_number": 24
    },
    {
     "cell_type": "markdown",
     "metadata": {},
     "source": [
      "Plot the points with a different color for each cluster. Plot also the centroids in Red"
     ]
    },
    {
     "cell_type": "code",
     "collapsed": false,
     "input": [
      "fig, ax = plt.subplots(1,1, figsize=(8,8))\n",
      "for t,marker,c in zip(xrange(4),\">ox+\",\"rgby\") :\n",
      "    ax.scatter(data[y == t,0],\n",
      "                data[y == t,1],\n",
      "                marker=marker,\n",
      "                c=c)\n",
      "\n",
      "ax.scatter(centroids[:,0],centroids[:,1],marker = 's',c='r')"
     ],
     "language": "python",
     "metadata": {},
     "outputs": [
      {
       "metadata": {},
       "output_type": "pyout",
       "prompt_number": 26,
       "text": [
        "<matplotlib.collections.PathCollection at 0x1084eb2d0>"
       ]
      },
      {
       "metadata": {},
       "output_type": "display_data",
       "png": "[encoded data removed]",
       "text": [
        "<matplotlib.figure.Figure at 0x1085e1d90>"
       ]
      }
     ],
     "prompt_number": 26
    },
    {
     "cell_type": "markdown",
     "metadata": {},
     "source": [
      "#### Discussion: what do you see?"
     ]
    },
    {
     "cell_type": "markdown",
     "metadata": {},
     "source": [
      "Let's try with better parameters. Initialize a KMeans classifier with 4 clusters, improved initialization, 10 initial centroid seeds and maximum number of iterations equal to 300."
     ]
    },
    {
     "cell_type": "code",
     "collapsed": false,
     "input": [
      "km = KMeans(n_clusters=4, init='k-means++', n_init=10 , max_iter = 300, random_state=1)"
     ],
     "language": "python",
     "metadata": {},
     "outputs": [],
     "prompt_number": 11
    },
    {
     "cell_type": "markdown",
     "metadata": {},
     "source": [
      "Condense the steps above in a handy function that receives the data and the classifier as input parameters and returns the figure. Make sure you are aware of the number of clusters"
     ]
    },
    {
     "cell_type": "code",
     "collapsed": false,
     "input": [
      "def do_kmeans_4(km, data):\n",
      "    km.fit(data)\n",
      "    centroids = km.cluster_centers_\n",
      "    print \"centroids:\", centroids\n",
      "    y = km.predict(data)\n",
      "    \n",
      "    \n",
      "    fig, ax = plt.subplots(1,1, figsize=(8,8))\n",
      "    for t,marker,c in zip(xrange(4),\">ox+\",\"rgby\") :\n",
      "        ax.scatter(data[y == t,0],\n",
      "                   data[y == t,1],\n",
      "                   marker=marker,\n",
      "                   c=c)\n",
      "\n",
      "    ax.scatter(centroids[:,0],centroids[:,1],marker = 's',c='r')"
     ],
     "language": "python",
     "metadata": {},
     "outputs": [],
     "prompt_number": 28
    },
    {
     "cell_type": "code",
     "collapsed": false,
     "input": [
      "do_kmeans_4(km, data)"
     ],
     "language": "python",
     "metadata": {},
     "outputs": [
      {
       "output_type": "stream",
       "stream": "stdout",
       "text": [
        "centroids: [[ 0.9896145   2.89696433]\n",
        " [ 2.95785307  3.12421571]\n",
        " [ 0.97390048  1.02662911]\n",
        " [ 2.97440383  0.97483448]]\n"
       ]
      },
      {
       "metadata": {},
       "output_type": "display_data",
       "png": "[encoded data removed]",
       "text": [
        "<matplotlib.figure.Figure at 0x106779810>"
       ]
      }
     ],
     "prompt_number": 13
    },
    {
     "cell_type": "markdown",
     "metadata": {},
     "source": [
      "### Blurred boundaries"
     ]
    },
    {
     "cell_type": "markdown",
     "metadata": {},
     "source": [
      "Generate new datapoints that have a bigger variance of 0.5, around the same centroids"
     ]
    },
    {
     "cell_type": "code",
     "collapsed": false,
     "input": [
      "data1 = np.vstack([np.random.multivariate_normal([1,1],[[.5,0],[0,.5]],20),\n",
      "                 np.random.multivariate_normal([1,3],[[.5,0],[0,.5]],20),\n",
      "                 np.random.multivariate_normal([3,1],[[.5,0],[0,.5]],20),\n",
      "                 np.random.multivariate_normal([3,3],[[.5,0],[0,.5]],20)])\n",
      "plt.scatter(data1[:,0], data1[:,1])"
     ],
     "language": "python",
     "metadata": {},
     "outputs": [
      {
       "metadata": {},
       "output_type": "pyout",
       "prompt_number": 29,
       "text": [
        "<matplotlib.collections.PathCollection at 0x108b1abd0>"
       ]
      },
      {
       "metadata": {},
       "output_type": "display_data",
       "png": "[encoded data removed]",
       "text": [
        "<matplotlib.figure.Figure at 0x1084e6150>"
       ]
      }
     ],
     "prompt_number": 29
    },
    {
     "cell_type": "markdown",
     "metadata": {},
     "source": [
      "Initialize a new kmeans classifier"
     ]
    },
    {
     "cell_type": "code",
     "collapsed": false,
     "input": [
      "km = KMeans(n_clusters=4, random_state=1)"
     ],
     "language": "python",
     "metadata": {},
     "outputs": [],
     "prompt_number": 30
    },
    {
     "cell_type": "markdown",
     "metadata": {},
     "source": [
      "Use the previously defined function to fit and plot the new data"
     ]
    },
    {
     "cell_type": "code",
     "collapsed": false,
     "input": [
      "do_kmeans_4(km, data1)"
     ],
     "language": "python",
     "metadata": {},
     "outputs": [
      {
       "output_type": "stream",
       "stream": "stdout",
       "text": [
        "centroids: [[ 1.17436518  3.50593874]\n",
        " [ 2.8951443   0.65442951]\n",
        " [ 3.10809528  2.73487392]\n",
        " [ 0.96743529  0.95879269]]\n"
       ]
      },
      {
       "metadata": {},
       "output_type": "display_data",
       "png": "[encoded data removed]",
       "text": [
        "<matplotlib.figure.Figure at 0x108862c10>"
       ]
      }
     ],
     "prompt_number": 31
    },
    {
     "cell_type": "markdown",
     "metadata": {},
     "source": [
      "Repeat the above with 150 points per cluster"
     ]
    },
    {
     "cell_type": "code",
     "collapsed": false,
     "input": [
      "data1 = np.vstack([np.random.multivariate_normal([1,1],[[.5,0],[0,.5]],150),\n",
      "                 np.random.multivariate_normal([1,3],[[.5,0],[0,.5]],150),\n",
      "                 np.random.multivariate_normal([3,1],[[.5,0],[0,.5]],150),\n",
      "                 np.random.multivariate_normal([3,3],[[.5,0],[0,.5]],150)])\n",
      "plt.scatter(data1[:,0], data1[:,1])"
     ],
     "language": "python",
     "metadata": {},
     "outputs": [
      {
       "metadata": {},
       "output_type": "pyout",
       "prompt_number": 32,
       "text": [
        "<matplotlib.collections.PathCollection at 0x108d01150>"
       ]
      },
      {
       "metadata": {},
       "output_type": "display_data",
       "png": "[encoded data removed]",
       "text": [
        "<matplotlib.figure.Figure at 0x108c3c910>"
       ]
      }
     ],
     "prompt_number": 32
    },
    {
     "cell_type": "code",
     "collapsed": false,
     "input": [
      "do_kmeans_4(km, data1)"
     ],
     "language": "python",
     "metadata": {},
     "outputs": [
      {
       "output_type": "stream",
       "stream": "stdout",
       "text": [
        "centroids: [[ 3.05778276  1.10063929]\n",
        " [ 0.8842686   3.00790353]\n",
        " [ 0.85761285  0.91755034]\n",
        " [ 2.98857351  3.16266231]]\n"
       ]
      },
      {
       "metadata": {},
       "output_type": "display_data",
       "png": "[encoded data removed]",
       "text": [
        "<matplotlib.figure.Figure at 0x1085c7890>"
       ]
      }
     ],
     "prompt_number": 33
    },
    {
     "cell_type": "markdown",
     "metadata": {},
     "source": [
      "#### Discussion: what do you see?"
     ]
    },
    {
     "cell_type": "markdown",
     "metadata": {},
     "source": [
      "## Let's find clusters in the Iris Dataset"
     ]
    },
    {
     "cell_type": "markdown",
     "metadata": {},
     "source": [
      "Import the data from the iris dataset in sklearn, generate X and y arrays"
     ]
    },
    {
     "cell_type": "code",
     "collapsed": false,
     "input": [
      "from sklearn import datasets\n",
      "\n",
      "iris = datasets.load_iris()\n",
      "\n",
      "X = iris['data']\n",
      "Names = iris['feature_names']\n",
      "target_names = iris['target_names']\n",
      "y = iris['target']"
     ],
     "language": "python",
     "metadata": {},
     "outputs": [],
     "prompt_number": 34
    },
    {
     "cell_type": "markdown",
     "metadata": {},
     "source": [
      "Display the features names"
     ]
    },
    {
     "cell_type": "code",
     "collapsed": false,
     "input": [
      "Names"
     ],
     "language": "python",
     "metadata": {},
     "outputs": [
      {
       "metadata": {},
       "output_type": "pyout",
       "prompt_number": 35,
       "text": [
        "['sepal length (cm)',\n",
        " 'sepal width (cm)',\n",
        " 'petal length (cm)',\n",
        " 'petal width (cm)']"
       ]
      }
     ],
     "prompt_number": 35
    },
    {
     "cell_type": "markdown",
     "metadata": {},
     "source": [
      "Plot the Sepal width versus Petal Width with colors according to species"
     ]
    },
    {
     "cell_type": "code",
     "collapsed": false,
     "input": [
      "fig, ax = plt.subplots(1,1, figsize=(8,8))\n",
      "for t,marker,c,n in zip(xrange(3),\">ox\",\"rgb\",target_names):\n",
      "    ax.scatter(X[y == t,1],\n",
      "               X[y == t,3],\n",
      "               marker=marker,\n",
      "               c=c,\n",
      "               label=n)\n",
      "\n",
      "plt.xlabel('Sepal width (cm)')\n",
      "plt.ylabel('Petal width (cm)')\n",
      "plt.title('Sepal width (cm) VS Petal width (cm)')\n",
      "plt.legend(loc='best')\n",
      "plt.show()"
     ],
     "language": "python",
     "metadata": {},
     "outputs": [
      {
       "metadata": {},
       "output_type": "display_data",
       "png": "[encoded data removed]",
       "text": [
        "<matplotlib.figure.Figure at 0x10694c410>"
       ]
      }
     ],
     "prompt_number": 28
    },
    {
     "cell_type": "markdown",
     "metadata": {},
     "source": [
      "### Exercise 1: Implement Kmeans on Iris Data Set\n",
      "Even though the Iris Data Set has labels, the Kmeans algorithms will not take these labels as input. So we'll see how well it does at figuring out these labels on its own\n",
      "\n",
      "### Using 3 clusters, fit and and predict using Kmeans"
     ]
    },
    {
     "cell_type": "code",
     "collapsed": false,
     "input": [],
     "language": "python",
     "metadata": {},
     "outputs": [],
     "prompt_number": 23
    },
    {
     "cell_type": "markdown",
     "metadata": {},
     "source": [
      "### Exercise 2: Plot Results\n",
      "#### Here's code for plotting the true clusters as the first of two subplots.  "
     ]
    },
    {
     "cell_type": "code",
     "collapsed": false,
     "input": [
      "fig, (ax1, ax2) = plt.subplots( 1,2, figsize=(10,6), sharex=True, sharey=True)\n",
      "\n",
      "## first the true clusters\n",
      "for t,marker,c,n in zip(xrange(3),\">ox\",\"rgb\",target_names):\n",
      "    ax1.scatter(X[y == t,1],\n",
      "               X[y == t,3],\n",
      "               marker=marker,\n",
      "               c=c,\n",
      "               label=n)\n",
      "\n",
      "ax1.set_xlabel('Sepal width (cm)')\n",
      "ax1.set_ylabel('Petal width (cm)')\n",
      "ax1.set_title('Sepal width (cm) VS Petal width (cm)')\n",
      "ax1.legend(loc='best')\n"
     ],
     "language": "python",
     "metadata": {},
     "outputs": [
      {
       "metadata": {},
       "output_type": "pyout",
       "prompt_number": 36,
       "text": [
        "<matplotlib.legend.Legend at 0x108e5a490>"
       ]
      },
      {
       "metadata": {},
       "output_type": "display_data",
       "png": "[encoded data removed]",
       "text": [
        "<matplotlib.figure.Figure at 0x108e5a410>"
       ]
      }
     ],
     "prompt_number": 36
    },
    {
     "cell_type": "markdown",
     "metadata": {},
     "source": [
      "#### Add code to plot the results from the Kmeans as second subplot \n",
      "#### (Hint: Code is very similar to first plot, use ax2 as name of second plot)"
     ]
    },
    {
     "cell_type": "code",
     "collapsed": false,
     "input": [],
     "language": "python",
     "metadata": {},
     "outputs": [],
     "prompt_number": 24
    },
    {
     "cell_type": "markdown",
     "metadata": {},
     "source": [
      "#### After adding code for subplot run the code below to view the results.\n",
      "#### How well does Kmeans perform?\n",
      "#### What are the pros and cons of unsupervised learning?"
     ]
    },
    {
     "cell_type": "code",
     "collapsed": false,
     "input": [
      "plt.show()"
     ],
     "language": "python",
     "metadata": {},
     "outputs": [],
     "prompt_number": 25
    },
    {
     "cell_type": "markdown",
     "metadata": {},
     "source": [
      "### Silhouette score"
     ]
    },
    {
     "cell_type": "code",
     "collapsed": false,
     "input": [
      "from sklearn import metrics\n",
      "from sklearn.metrics import pairwise_distances\n",
      "\n",
      "km = KMeans(n_clusters=3, random_state=1)\n",
      "km.fit(X)\n",
      "labels = km.labels_\n",
      "metrics.silhouette_score(X, labels, metric='euclidean')"
     ],
     "language": "python",
     "metadata": {},
     "outputs": [
      {
       "metadata": {},
       "output_type": "pyout",
       "prompt_number": 26,
       "text": [
        "0.5525919445213674"
       ]
      }
     ],
     "prompt_number": 26
    },
    {
     "cell_type": "markdown",
     "metadata": {},
     "source": [
      "calculate the Silhouette score for different values of k"
     ]
    },
    {
     "cell_type": "code",
     "collapsed": false,
     "input": [
      "for k in xrange(2,8):\n",
      "    km = KMeans(n_clusters=k, random_state=1)\n",
      "    km.fit(X)\n",
      "    labels = km.labels_\n",
      "    print k, metrics.silhouette_score(X, labels, metric='euclidean')\n",
      "    "
     ],
     "language": "python",
     "metadata": {},
     "outputs": [
      {
       "output_type": "stream",
       "stream": "stdout",
       "text": [
        "2 0.680813620271\n",
        "3 "
       ]
      },
      {
       "output_type": "stream",
       "stream": "stdout",
       "text": [
        "0.552591944521\n",
        "4 "
       ]
      },
      {
       "output_type": "stream",
       "stream": "stdout",
       "text": [
        "0.49722797263\n",
        "5 "
       ]
      },
      {
       "output_type": "stream",
       "stream": "stdout",
       "text": [
        "0.488517550854\n",
        "6 "
       ]
      },
      {
       "output_type": "stream",
       "stream": "stdout",
       "text": [
        "0.371218050256\n",
        "7"
       ]
      },
      {
       "output_type": "stream",
       "stream": "stdout",
       "text": [
        " 0.353677304626\n"
       ]
      }
     ],
     "prompt_number": 27
    },
    {
     "cell_type": "code",
     "collapsed": false,
     "input": [],
     "language": "python",
     "metadata": {},
     "outputs": [],
     "prompt_number": 27
    }
   ],
   "metadata": {}
  }
 ]
}