{
 "metadata": {
  "name": "",
  "signature": "sha256:dce862715e6a1dc94e072d1122771fdc03dbdc104f72430d4f721f62a45ed8a8"
 },
 "nbformat": 3,
 "nbformat_minor": 0,
 "worksheets": [
  {
   "cells": [
    {
     "cell_type": "heading",
     "level": 1,
     "metadata": {},
     "source": [
      "GA Lab 1: Pandas and Numpy"
     ]
    },
    {
     "cell_type": "code",
     "collapsed": false,
     "input": [
      "import numpy as np\n",
      "import pandas as pd\n",
      "import matplotlib.pyplot as plt\n",
      "\n",
      "# Limit rows displayed in notebook\n",
      "pd.set_option('display.max_rows', 10)\n",
      "pd.set_option('display.precision', 2)\n",
      "\n",
      "%matplotlib inline\n",
      "5+5"
     ],
     "language": "python",
     "metadata": {},
     "outputs": [
      {
       "metadata": {},
       "output_type": "pyout",
       "prompt_number": 6,
       "text": [
        "10"
       ]
      }
     ],
     "prompt_number": 6
    },
    {
     "cell_type": "heading",
     "level": 1,
     "metadata": {},
     "source": [
      "Numpy"
     ]
    },
    {
     "cell_type": "markdown",
     "metadata": {},
     "source": [
      "http://www.numpy.org/"
     ]
    },
    {
     "cell_type": "heading",
     "level": 2,
     "metadata": {},
     "source": [
      "Why numpy"
     ]
    },
    {
     "cell_type": "markdown",
     "metadata": {},
     "source": [
      "- very fast! \n",
      "- ndarray: immutable, one type, striding\n",
      "- widely used\n",
      "- input to many/most machine learning algorithms"
     ]
    },
    {
     "cell_type": "code",
     "collapsed": false,
     "input": [
      "%%timeit\n",
      "#Traditional Method\n",
      "X = range(10000000)\n",
      "Y = range(10000000)\n",
      "Z = []\n",
      "for i in range(len(X)):\n",
      "    Z.append(X[i] + Y[i])"
     ],
     "language": "python",
     "metadata": {},
     "outputs": [
      {
       "output_type": "stream",
       "stream": "stdout",
       "text": [
        "1 loops, best of 3: 2.08 s per loop\n"
       ]
      }
     ],
     "prompt_number": 4
    },
    {
     "cell_type": "code",
     "collapsed": false,
     "input": [
      "%%timeit\n",
      "#Numpy\n",
      "X = np.arange(10000000)\n",
      "Y = np.arange(10000000)\n",
      "Z = X + Y"
     ],
     "language": "python",
     "metadata": {},
     "outputs": [
      {
       "output_type": "stream",
       "stream": "stdout",
       "text": [
        "10 loops, best of 3: 90.1 ms per loop\n"
       ]
      }
     ],
     "prompt_number": 3
    },
    {
     "cell_type": "heading",
     "level": 2,
     "metadata": {},
     "source": [
      "ndarray"
     ]
    },
    {
     "cell_type": "code",
     "collapsed": false,
     "input": [
      "#Create 10-element array of random numbers\n",
      "rand_array = np.array(np.random.randint(10, size=12))\n",
      "\n",
      "print \"array: {}\".format(rand_array)\n",
      "print \"Type: {}\".format(type(rand_array))\n",
      "print \"Array size: {}\".format(rand_array.shape)\n",
      "print \"Type of object: {}\".format(rand_array.dtype)\n",
      "print 'Size (elements): ', rand_array.size\n",
      "print 'ndim (number of dim): ', rand_array.ndim"
     ],
     "language": "python",
     "metadata": {},
     "outputs": [
      {
       "output_type": "stream",
       "stream": "stdout",
       "text": [
        "array: [9 9 2 9 7 4 7 4 3 3 8 7]\n",
        "Type: <type 'numpy.ndarray'>\n",
        "Array size: (12,)\n",
        "Type of object: int64\n",
        "Size (elements):  12\n",
        "ndim (number of dim):  1\n"
       ]
      }
     ],
     "prompt_number": 7
    },
    {
     "cell_type": "heading",
     "level": 4,
     "metadata": {},
     "source": [
      "Basic operations"
     ]
    },
    {
     "cell_type": "code",
     "collapsed": false,
     "input": [
      "#Array slicing - same as python\n",
      "print \"First element: {}\".format(rand_array[0])\n",
      "print \"Slicing array: {}\".format(rand_array[1:4])"
     ],
     "language": "python",
     "metadata": {},
     "outputs": [
      {
       "output_type": "stream",
       "stream": "stdout",
       "text": [
        "First element: 9\n",
        "Slicing array: [9 2 9]\n"
       ]
      }
     ],
     "prompt_number": 8
    },
    {
     "cell_type": "heading",
     "level": 4,
     "metadata": {},
     "source": [
      "Reshaping"
     ]
    },
    {
     "cell_type": "code",
     "collapsed": false,
     "input": [
      "print rand_array.reshape(3,4)\n",
      "print \n",
      "print rand_array.reshape(4,3)"
     ],
     "language": "python",
     "metadata": {},
     "outputs": [
      {
       "output_type": "stream",
       "stream": "stdout",
       "text": [
        "[[9 9 2 9]\n",
        " [7 4 7 4]\n",
        " [3 3 8 7]]\n",
        "\n",
        "[[9 9 2]\n",
        " [9 7 4]\n",
        " [7 4 3]\n",
        " [3 8 7]]\n"
       ]
      }
     ],
     "prompt_number": 9
    },
    {
     "cell_type": "heading",
     "level": 2,
     "metadata": {},
     "source": [
      "Accessing a two dimensional array"
     ]
    },
    {
     "cell_type": "markdown",
     "metadata": {},
     "source": [
      "- syntax is row, column"
     ]
    },
    {
     "cell_type": "code",
     "collapsed": false,
     "input": [
      "my_array = rand_array.reshape(4,3)\n",
      "print my_array\n",
      "\n",
      "print \"First row, second column: {}\".format(my_array[0][1])"
     ],
     "language": "python",
     "metadata": {},
     "outputs": [
      {
       "output_type": "stream",
       "stream": "stdout",
       "text": [
        "[[9 9 2]\n",
        " [9 7 4]\n",
        " [7 4 3]\n",
        " [3 8 7]]\n",
        "First row, second column: 9\n"
       ]
      }
     ],
     "prompt_number": 10
    },
    {
     "cell_type": "code",
     "collapsed": false,
     "input": [
      "#Can write\n",
      "my_array[0][1] = 42\n",
      "my_array"
     ],
     "language": "python",
     "metadata": {},
     "outputs": [
      {
       "metadata": {},
       "output_type": "pyout",
       "prompt_number": 11,
       "text": [
        "array([[ 9, 42,  2],\n",
        "       [ 9,  7,  4],\n",
        "       [ 7,  4,  3],\n",
        "       [ 3,  8,  7]])"
       ]
      }
     ],
     "prompt_number": 11
    },
    {
     "cell_type": "heading",
     "level": 4,
     "metadata": {},
     "source": [
      "Array operations"
     ]
    },
    {
     "cell_type": "code",
     "collapsed": false,
     "input": [
      "print \"Scalar Multiplication: {}\".format(test_array * 4)\n",
      "print\n",
      "print \"Sum: {}\".format(np.sum(test_array))\n",
      "print \"Array mean: {}\".format(np.mean(test_array))\n",
      "\n",
      "print \"Min: {}\".format(test_array.min())\n",
      "print \"Max: {}\".format(test_array.max())"
     ],
     "language": "python",
     "metadata": {},
     "outputs": []
    },
    {
     "cell_type": "code",
     "collapsed": false,
     "input": [
      "arr1 = np.array([1, 2, 3])\n",
      "arr2 = np.array([4, 5, 6])\n",
      "\n",
      "#Addition\n",
      "print \"Addition: {}\".format(arr1 + arr2)\n",
      "#Multiplication\n",
      "print \"Multiplication: {}\".format(arr1 * arr2)"
     ],
     "language": "python",
     "metadata": {},
     "outputs": [
      {
       "output_type": "stream",
       "stream": "stdout",
       "text": [
        "Addition: [5 7 9]\n",
        "Multiplication: [ 4 10 18]\n"
       ]
      }
     ],
     "prompt_number": 12
    },
    {
     "cell_type": "heading",
     "level": 3,
     "metadata": {},
     "source": [
      "linspace"
     ]
    },
    {
     "cell_type": "code",
     "collapsed": false,
     "input": [
      "#Get 10 evenly spaced points between 1 and 1000 - inclusive\n",
      "np.linspace(1,50,3)"
     ],
     "language": "python",
     "metadata": {},
     "outputs": [
      {
       "metadata": {},
       "output_type": "pyout",
       "prompt_number": 13,
       "text": [
        "array([  1. ,  25.5,  50. ])"
       ]
      }
     ],
     "prompt_number": 13
    },
    {
     "cell_type": "heading",
     "level": 2,
     "metadata": {},
     "source": [
      "Exercise 1: Do the same thing in python"
     ]
    },
    {
     "cell_type": "code",
     "collapsed": false,
     "input": [
      "sequence_1 = [1, 2, 3, 4, 5, 6, 7, 8]\n",
      "sequence_2 = [2, 4, 6, 8, 10, 12, 14, 16]"
     ],
     "language": "python",
     "metadata": {},
     "outputs": [],
     "prompt_number": 14
    },
    {
     "cell_type": "code",
     "collapsed": false,
     "input": [
      "#Add two python lists"
     ],
     "language": "python",
     "metadata": {},
     "outputs": []
    },
    {
     "cell_type": "code",
     "collapsed": false,
     "input": [
      "#Multiply two python lists"
     ],
     "language": "python",
     "metadata": {},
     "outputs": []
    },
    {
     "cell_type": "code",
     "collapsed": false,
     "input": [
      "#Multiply a scalar by a python list"
     ],
     "language": "python",
     "metadata": {},
     "outputs": []
    },
    {
     "cell_type": "heading",
     "level": 2,
     "metadata": {},
     "source": [
      "Exercise 1.5: Numpy exercises"
     ]
    },
    {
     "cell_type": "code",
     "collapsed": false,
     "input": [
      "#Make an evenly spaced array of 10 numbers between 1 & 1000"
     ],
     "language": "python",
     "metadata": {},
     "outputs": []
    },
    {
     "cell_type": "code",
     "collapsed": false,
     "input": [
      "#Make an 10 X 10 array containing numbers 1-100"
     ],
     "language": "python",
     "metadata": {},
     "outputs": []
    },
    {
     "cell_type": "code",
     "collapsed": false,
     "input": [
      "#Challenging - Make the even elements 0"
     ],
     "language": "python",
     "metadata": {},
     "outputs": []
    },
    {
     "cell_type": "heading",
     "level": 4,
     "metadata": {},
     "source": [
      "Filtering / Masking"
     ]
    },
    {
     "cell_type": "code",
     "collapsed": false,
     "input": [
      "print test_array > 5\n",
      "#These filters can be assigned\n",
      "elements_gt_5 = test_array > 5\n",
      "print test_array[elements_gt_5]"
     ],
     "language": "python",
     "metadata": {},
     "outputs": []
    },
    {
     "cell_type": "heading",
     "level": 2,
     "metadata": {},
     "source": [
      "Other numpy functions"
     ]
    },
    {
     "cell_type": "code",
     "collapsed": false,
     "input": [
      "#Create an array from 1-300\n",
      "three_hundred = np.arange(1,301)\n",
      "print three_hundred"
     ],
     "language": "python",
     "metadata": {},
     "outputs": []
    },
    {
     "cell_type": "code",
     "collapsed": false,
     "input": [
      "# Normal Dist\n",
      "# Mean of 1, std of 0.1, 10 elements\n",
      "np.random.normal(1, 0.1, 25)"
     ],
     "language": "python",
     "metadata": {},
     "outputs": []
    },
    {
     "cell_type": "code",
     "collapsed": false,
     "input": [
      "# Standard Normal Dist\n",
      "np.random.randn(1, 25)"
     ],
     "language": "python",
     "metadata": {},
     "outputs": []
    },
    {
     "cell_type": "heading",
     "level": 3,
     "metadata": {},
     "source": [
      "Multiple array slicing"
     ]
    },
    {
     "cell_type": "code",
     "collapsed": false,
     "input": [
      "test_array = np.arange(0,120).reshape(15,8)\n",
      "print test_array"
     ],
     "language": "python",
     "metadata": {},
     "outputs": [
      {
       "output_type": "stream",
       "stream": "stdout",
       "text": [
        "[[  0   1   2   3   4   5   6   7]\n",
        " [  8   9  10  11  12  13  14  15]\n",
        " [ 16  17  18  19  20  21  22  23]\n",
        " [ 24  25  26  27  28  29  30  31]\n",
        " [ 32  33  34  35  36  37  38  39]\n",
        " [ 40  41  42  43  44  45  46  47]\n",
        " [ 48  49  50  51  52  53  54  55]\n",
        " [ 56  57  58  59  60  61  62  63]\n",
        " [ 64  65  66  67  68  69  70  71]\n",
        " [ 72  73  74  75  76  77  78  79]\n",
        " [ 80  81  82  83  84  85  86  87]\n",
        " [ 88  89  90  91  92  93  94  95]\n",
        " [ 96  97  98  99 100 101 102 103]\n",
        " [104 105 106 107 108 109 110 111]\n",
        " [112 113 114 115 116 117 118 119]]\n"
       ]
      }
     ],
     "prompt_number": 15
    },
    {
     "cell_type": "heading",
     "level": 4,
     "metadata": {},
     "source": [
      "select an individual element"
     ]
    },
    {
     "cell_type": "code",
     "collapsed": false,
     "input": [
      "test_array[1,1]"
     ],
     "language": "python",
     "metadata": {},
     "outputs": []
    },
    {
     "cell_type": "heading",
     "level": 4,
     "metadata": {},
     "source": [
      "select a row"
     ]
    },
    {
     "cell_type": "code",
     "collapsed": false,
     "input": [
      "test_array[1]"
     ],
     "language": "python",
     "metadata": {},
     "outputs": []
    },
    {
     "cell_type": "heading",
     "level": 4,
     "metadata": {},
     "source": [
      "select a column"
     ]
    },
    {
     "cell_type": "code",
     "collapsed": false,
     "input": [
      "test_array[:,3]"
     ],
     "language": "python",
     "metadata": {},
     "outputs": [
      {
       "metadata": {},
       "output_type": "pyout",
       "prompt_number": 16,
       "text": [
        "array([  3,  11,  19,  27,  35,  43,  51,  59,  67,  75,  83,  91,  99,\n",
        "       107, 115])"
       ]
      }
     ],
     "prompt_number": 16
    },
    {
     "cell_type": "heading",
     "level": 4,
     "metadata": {},
     "source": [
      "select a row and column subset"
     ]
    },
    {
     "cell_type": "code",
     "collapsed": false,
     "input": [
      "#Select the second, third and fourth column\n",
      "#then select the fourth, fifth and sixth column\n",
      "test_array[1:5,3:6]"
     ],
     "language": "python",
     "metadata": {},
     "outputs": []
    },
    {
     "cell_type": "heading",
     "level": 2,
     "metadata": {},
     "source": [
      "Exercise 2: Array practice"
     ]
    },
    {
     "cell_type": "markdown",
     "metadata": {},
     "source": [
      "- These are difficult\n",
      "- This syntax is very useful"
     ]
    },
    {
     "cell_type": "code",
     "collapsed": false,
     "input": [
      "#Create an array with dimensions 10 x 15"
     ],
     "language": "python",
     "metadata": {},
     "outputs": []
    },
    {
     "cell_type": "code",
     "collapsed": false,
     "input": [
      "#What is the sum of the second row?\n",
      "#Sum of the even rows"
     ],
     "language": "python",
     "metadata": {},
     "outputs": []
    },
    {
     "cell_type": "code",
     "collapsed": false,
     "input": [
      "#mean of the columns\n",
      "#mean of the rows"
     ],
     "language": "python",
     "metadata": {},
     "outputs": []
    },
    {
     "cell_type": "code",
     "collapsed": false,
     "input": [
      "#Select odd rows"
     ],
     "language": "python",
     "metadata": {},
     "outputs": []
    },
    {
     "cell_type": "code",
     "collapsed": false,
     "input": [],
     "language": "python",
     "metadata": {},
     "outputs": []
    }
   ],
   "metadata": {}
  }
 ]
}