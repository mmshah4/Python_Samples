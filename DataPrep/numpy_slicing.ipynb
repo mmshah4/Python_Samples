{
 "metadata": {
  "name": "",
  "signature": "sha256:171369e1ad8c87ba3db6c3b4bff45dd99ea0b4c29da5cd23d430be42e1dc3273"
 },
 "nbformat": 3,
 "nbformat_minor": 0,
 "worksheets": [
  {
   "cells": [
    {
     "cell_type": "code",
     "collapsed": false,
     "input": [
      "import datetime \n",
      "\n",
      "import numpy as np\n",
      "import pandas as pd\n",
      "\n",
      "import seaborn as sns\n",
      "import matplotlib.pyplot as plt\n",
      "\n",
      "%matplotlib inline"
     ],
     "language": "python",
     "metadata": {},
     "outputs": []
    },
    {
     "cell_type": "heading",
     "level": 2,
     "metadata": {},
     "source": [
      "Kaggle Bike Share Data"
     ]
    },
    {
     "cell_type": "markdown",
     "metadata": {},
     "source": [
      "- https://www.kaggle.com/c/bike-sharing-demand"
     ]
    },
    {
     "cell_type": "code",
     "collapsed": false,
     "input": [
      "bike_data = pd.read_csv(\"source_data/kaggle_bike_share.csv\")\n",
      "bike_data.head()"
     ],
     "language": "python",
     "metadata": {},
     "outputs": []
    },
    {
     "cell_type": "heading",
     "level": 2,
     "metadata": {},
     "source": [
      "Use the datetime field as an index"
     ]
    },
    {
     "cell_type": "code",
     "collapsed": false,
     "input": [
      "#Pandas is a financial package at heart - very good at time indexed data\n",
      "bike_data = pd.read_csv(\"source_data/kaggle_bike_share.csv\", parse_dates={'date_time':[0]}, index_col='date_time')\n",
      "bike_data.head()"
     ],
     "language": "python",
     "metadata": {},
     "outputs": []
    },
    {
     "cell_type": "code",
     "collapsed": false,
     "input": [
      "#Class exercise - make more readable columns (enumeration and map function)\n",
      "#Season_name, holiday (yes / no), workinday (yes / no)\n",
      "bike_data[\"season_name\"] = bike_data.season.map({1: \"Winter\", 2: \"Spring\", 3: \"Fall\", 4: \"Winter\"})\n",
      "bike_data.head()"
     ],
     "language": "python",
     "metadata": {},
     "outputs": []
    },
    {
     "cell_type": "heading",
     "level": 1,
     "metadata": {},
     "source": [
      "Fetching rows"
     ]
    },
    {
     "cell_type": "markdown",
     "metadata": {},
     "source": [
      "- the .ix accesses rows by index"
     ]
    },
    {
     "cell_type": "code",
     "collapsed": false,
     "input": [
      "#First row\n",
      "bike_data.ix[0]"
     ],
     "language": "python",
     "metadata": {},
     "outputs": []
    },
    {
     "cell_type": "code",
     "collapsed": false,
     "input": [
      "#Second, through 5th row\n",
      "bike_data.ix[1:6]"
     ],
     "language": "python",
     "metadata": {},
     "outputs": []
    },
    {
     "cell_type": "code",
     "collapsed": false,
     "input": [
      "#Odd # rows less than 25\n",
      "bike_data.ix[1:25:2]"
     ],
     "language": "python",
     "metadata": {},
     "outputs": []
    },
    {
     "cell_type": "heading",
     "level": 2,
     "metadata": {},
     "source": [
      "Conditional row selection"
     ]
    },
    {
     "cell_type": "markdown",
     "metadata": {},
     "source": [
      "- can specify a row index or list of indexes\n",
      "- use pd.date_range to return a list of datetimes in a range"
     ]
    },
    {
     "cell_type": "code",
     "collapsed": false,
     "input": [
      "#Dealing with dates and times is no fun in python\n",
      "bike_data.ix[[datetime.datetime(2012, 1, 1, 1, 0, 0), datetime.datetime(2012, 1, 2, 1, 0, 0)]]"
     ],
     "language": "python",
     "metadata": {},
     "outputs": []
    },
    {
     "cell_type": "code",
     "collapsed": false,
     "input": [
      "#Searching by a daterange\n",
      "start_date = datetime.datetime(2012, 1, 1)\n",
      "end_date = datetime.datetime(2012, 1, 4)\n",
      "bike_data.ix[pd.date_range(start=start_date, end=end_date, freq='H')]"
     ],
     "language": "python",
     "metadata": {},
     "outputs": []
    },
    {
     "cell_type": "code",
     "collapsed": false,
     "input": [
      "#Selection on a row - winter rentals\n",
      "bike_data.ix[bike_data.season == 1]"
     ],
     "language": "python",
     "metadata": {},
     "outputs": []
    },
    {
     "cell_type": "code",
     "collapsed": false,
     "input": [
      "#More complex - summer rentals non workday\n",
      "bike_data[(bike_data.season == 3) & (bike_data.workingday == 0)]"
     ],
     "language": "python",
     "metadata": {},
     "outputs": []
    },
    {
     "cell_type": "code",
     "collapsed": false,
     "input": [
      "#Can perform np functions on these subsets too\n",
      "np.mean(bike_data.ix[bike_data.season_name == \"Winter\", ['temp','humidity']])"
     ],
     "language": "python",
     "metadata": {},
     "outputs": []
    },
    {
     "cell_type": "code",
     "collapsed": false,
     "input": [
      "#Class exercise - what was the coldest time?"
     ],
     "language": "python",
     "metadata": {},
     "outputs": []
    },
    {
     "cell_type": "code",
     "collapsed": false,
     "input": [
      "#Class exercise - how many timestamps in winter had windspeed > 20"
     ],
     "language": "python",
     "metadata": {},
     "outputs": []
    },
    {
     "cell_type": "heading",
     "level": 1,
     "metadata": {},
     "source": [
      "Fetching Columns"
     ]
    },
    {
     "cell_type": "markdown",
     "metadata": {},
     "source": [
      "- format dataframe.ix[:,column]\n",
      "- Can select columns by index or name"
     ]
    },
    {
     "cell_type": "code",
     "collapsed": false,
     "input": [
      "#Select the last three columns (first 10 records)\n",
      "bike_data.ix[:,-3:][:10]"
     ],
     "language": "python",
     "metadata": {},
     "outputs": []
    },
    {
     "cell_type": "code",
     "collapsed": false,
     "input": [
      "#Select the temperature and humidity (last 10 records)\n",
      "bike_data.ix[:,['temp','humidity']][-10:]"
     ],
     "language": "python",
     "metadata": {},
     "outputs": []
    },
    {
     "cell_type": "heading",
     "level": 1,
     "metadata": {},
     "source": [
      "You can combine row and column subsets"
     ]
    },
    {
     "cell_type": "code",
     "collapsed": false,
     "input": [
      "#Get the temperature and humidity for the summer\n",
      "start_date = datetime.datetime(2012, 5, 1, 12)\n",
      "end_date = datetime.datetime(2012, 9, 1, 12)\n",
      "bike_data.ix[pd.date_range(start=start_date, end=end_date, freq='H'), 'temp']"
     ],
     "language": "python",
     "metadata": {},
     "outputs": []
    },
    {
     "cell_type": "code",
     "collapsed": false,
     "input": [
      "#This can be plotted easily\n",
      "temp_data = bike_data.ix[pd.date_range(start=start_date, end=end_date, freq='H'), 'temp']\n",
      "temp_data.plot()"
     ],
     "language": "python",
     "metadata": {},
     "outputs": []
    },
    {
     "cell_type": "heading",
     "level": 1,
     "metadata": {},
     "source": [
      "Interesting numpy functions"
     ]
    },
    {
     "cell_type": "code",
     "collapsed": false,
     "input": [
      "#Random sampling - with replacement (bootstrapping)\n",
      "np.random.choice(np.arange(101), 20)"
     ],
     "language": "python",
     "metadata": {},
     "outputs": []
    },
    {
     "cell_type": "code",
     "collapsed": false,
     "input": [
      "#Permutation - random sample (without replacement)\n",
      "np.random.permutation([1,2,3,4,5,6,7,8])"
     ],
     "language": "python",
     "metadata": {},
     "outputs": []
    },
    {
     "cell_type": "code",
     "collapsed": false,
     "input": [],
     "language": "python",
     "metadata": {},
     "outputs": []
    }
   ],
   "metadata": {}
  }
 ]
}